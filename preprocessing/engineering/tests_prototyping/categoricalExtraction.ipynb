{
 "cells": [
  {
   "cell_type": "code",
   "execution_count": null,
   "metadata": {},
   "outputs": [],
   "source": [
    "import numpy as np\n",
    "import sympy as sym\n",
    "import matplotlib.pyplot as plt\n",
    "\n",
    "# better image resolution\n",
    "import matplotlib_inline.backend_inline\n",
    "matplotlib_inline.backend_inline.set_matplotlib_formats('svg')"
   ]
  },
  {
   "cell_type": "code",
   "execution_count": null,
   "metadata": {},
   "outputs": [],
   "source": [
    "import pandas as pd\n",
    "test_daten = pd.DataFrame(\n",
    "    {\n",
    "    \"COLTestCAT1\":np.array([\"Hund\",\"Hund123\",\"hund\"]),\n",
    "    \"COLTestCAT2\":np.array([\"K*atze\",np.nan,\"Hund$\"]),\n",
    "    # \"timestamp\":np.array([\"2023-02-08 06:58:14.017000+00:00\",\"2023-02-08 15:54:13.693000+00:00\", np.nan])\n",
    "     })\n",
    "\n",
    "test_daten"
   ]
  },
  {
   "cell_type": "code",
   "execution_count": null,
   "metadata": {},
   "outputs": [],
   "source": [
    "for row in test_daten.values:\n",
    "    # Zeilenweise - Ausgabe\n",
    "    print(row)"
   ]
  },
  {
   "cell_type": "code",
   "execution_count": null,
   "metadata": {},
   "outputs": [],
   "source": [
    "for col in test_daten.columns:\n",
    "    print(\"Actual column: \", col)\n",
    "    for value in test_daten[col].values:\n",
    "        print(value)\n",
    "    print()"
   ]
  },
  {
   "cell_type": "code",
   "execution_count": null,
   "metadata": {},
   "outputs": [],
   "source": [
    "from bitstring import BitArray\n",
    "\n",
    "X = test_daten.copy()\n",
    "\n",
    "for col in X.columns:\n",
    "    print(\"Actual column: \", col)\n",
    "\n",
    "    temp_word_encoded = []\n",
    "    count_len = []\n",
    "    for value in X[col].values:\n",
    "        str_w_encoded = []\n",
    "        count_len.append(len(value))\n",
    "\n",
    "        for character in value:\n",
    "            if character.isupper(): str_w_encoded.append(\"00\")\n",
    "            elif character.islower(): str_w_encoded.append(\"01\")\n",
    "            elif not character.isalnum(): str_w_encoded.append(\"10\")\n",
    "            else: str_w_encoded.append(\"11\")        \n",
    "        str_w_encoded = \"0\"+\"\".join(str_w_encoded)[::-1]\n",
    "        print(str_w_encoded)\n",
    "        print(count_len)\n",
    "        str_w_encoded = BitArray(bin=str_w_encoded).int\n",
    "        temp_word_encoded.append(str_w_encoded)\n",
    "\n",
    "    X[col] = temp_word_encoded\n",
    "    X[col+\"_len\"] = count_len\n",
    "    print(temp_word_encoded)\n",
    "\n"
   ]
  },
  {
   "cell_type": "code",
   "execution_count": null,
   "metadata": {},
   "outputs": [],
   "source": [
    "test_daten "
   ]
  },
  {
   "cell_type": "code",
   "execution_count": null,
   "metadata": {},
   "outputs": [],
   "source": [
    "X"
   ]
  }
 ],
 "metadata": {
  "language_info": {
   "name": "python"
  },
  "orig_nbformat": 4
 },
 "nbformat": 4,
 "nbformat_minor": 2
}
